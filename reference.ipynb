{
 "cells": [
  {
   "cell_type": "markdown",
   "metadata": {},
   "source": [
    "## Login"
   ]
  },
  {
   "cell_type": "markdown",
   "metadata": {},
   "source": [
    "Resume Garth"
   ]
  },
  {
   "cell_type": "code",
   "execution_count": 14,
   "metadata": {},
   "outputs": [],
   "source": [
    "import garth\n",
    "import os\n",
    "from dotenv import load_dotenv\n",
    "\n",
    "# Refresh dotenv\n",
    "load_dotenv(override=True)\n",
    "\n",
    "# Try to resume Garth from file, if not, login\n",
    "if garth.resume(\"~/.garth\"):\n",
    "    pass\n",
    "else:\n",
    "    garth.login(os.getenv('EMAIL'), os.getenv('PASS'))"
   ]
  },
  {
   "cell_type": "markdown",
   "metadata": {},
   "source": [
    "Save session"
   ]
  },
  {
   "cell_type": "code",
   "execution_count": null,
   "metadata": {},
   "outputs": [
    {
     "name": "stdout",
     "output_type": "stream",
     "text": [
      "2025-06-07\n",
      "2025-06-06\n",
      "2025-06-05\n"
     ]
    }
   ],
   "source": [
    "import datetime\n",
    "\n",
    "today = datetime.date.today()\n",
    "yesterday = today - datetime.timedelta(days=1)\n",
    "twoDaysAgo = today - datetime.timedelta(days=2)\n",
    "\n",
    "print(today)\n",
    "print(yesterday)\n",
    "print(twoDaysAgo)"
   ]
  },
  {
   "cell_type": "markdown",
   "metadata": {},
   "source": [
    "Get Steps"
   ]
  },
  {
   "cell_type": "code",
   "execution_count": 24,
   "metadata": {},
   "outputs": [
    {
     "name": "stdout",
     "output_type": "stream",
     "text": [
      "[{'calendarDate': '2025-06-05', 'totalSteps': 1625, 'totalDistance': 1317, 'stepGoal': 6980}, {'calendarDate': '2025-06-06', 'totalSteps': 3666, 'totalDistance': 3007, 'stepGoal': 6980}]\n"
     ]
    }
   ],
   "source": [
    "start = twoDaysAgo\n",
    "end = yesterday\n",
    "garmin_connect_daily_stats_steps_url = (\"/usersummary-service/stats/steps/daily\")\n",
    "url = f\"{garmin_connect_daily_stats_steps_url}/{start}/{end}\"\n",
    "\n",
    "steps = garth.connectapi(url)\n",
    "\n",
    "print(steps)"
   ]
  },
  {
   "cell_type": "markdown",
   "metadata": {},
   "source": [
    "Stick it into a Pandas Dataframe and Clean"
   ]
  },
  {
   "cell_type": "code",
   "execution_count": 23,
   "metadata": {},
   "outputs": [
    {
     "name": "stdout",
     "output_type": "stream",
     "text": [
      "  calendarDate  totalSteps  totalDistance  stepGoal\n",
      "0   2025-06-05        1625           1317      6980\n",
      "1   2025-06-06        3666           3007      6980\n"
     ]
    }
   ],
   "source": [
    "import pandas as pd\n",
    "\n",
    "df = pd.DataFrame(steps)\n",
    "df = df.dropna()\n",
    "\n",
    "print(df)"
   ]
  },
  {
   "cell_type": "markdown",
   "metadata": {},
   "source": [
    "Connect to GSheets"
   ]
  },
  {
   "cell_type": "code",
   "execution_count": 17,
   "metadata": {},
   "outputs": [],
   "source": [
    "from google.oauth2.service_account import Credentials\n",
    "import gspread\n",
    "from dotenv import load_dotenv\n",
    "\n",
    "load_dotenv(override=True)\n",
    "\n",
    "scopes = ['https://www.googleapis.com/auth/spreadsheets',\n",
    "                'https://www.googleapis.com/auth/drive']\n",
    "\n",
    "\n",
    "credentials = Credentials.from_service_account_file(os.getenv('SACREDS'), scopes=scopes)\n",
    "gc = gspread.authorize(credentials)"
   ]
  },
  {
   "cell_type": "markdown",
   "metadata": {},
   "source": [
    "Select Worksheet and Tab"
   ]
  },
  {
   "cell_type": "code",
   "execution_count": null,
   "metadata": {},
   "outputs": [
    {
     "name": "stdout",
     "output_type": "stream",
     "text": [
      "<Spreadsheet 'Garmin data' id:1hCL_fghYE_xjmVv3J1tnqk-PH6WXxSpIpYWA0nzfSak>\n",
      "\n",
      "<Worksheet 'Steps' id:0>\n"
     ]
    }
   ],
   "source": [
    "gs = gc.open_by_key(os.getenv('SHEETKEY'))\n",
    "sheet = gs.worksheet('Steps')"
   ]
  },
  {
   "cell_type": "markdown",
   "metadata": {},
   "source": [
    "Append DataFrame to GSheets Tab"
   ]
  },
  {
   "cell_type": "code",
   "execution_count": 26,
   "metadata": {},
   "outputs": [
    {
     "data": {
      "text/plain": [
       "{'spreadsheetId': '1hCL_fghYE_xjmVv3J1tnqk-PH6WXxSpIpYWA0nzfSak',\n",
       " 'tableRange': 'Steps!A1:D25',\n",
       " 'updates': {'spreadsheetId': '1hCL_fghYE_xjmVv3J1tnqk-PH6WXxSpIpYWA0nzfSak',\n",
       "  'updatedRange': 'Steps!A26:D27',\n",
       "  'updatedRows': 2,\n",
       "  'updatedColumns': 4,\n",
       "  'updatedCells': 8}}"
      ]
     },
     "execution_count": 26,
     "metadata": {},
     "output_type": "execute_result"
    }
   ],
   "source": [
    "df_values = df.values.tolist()\n",
    "gs.values_append('Steps', {'valueInputOption': 'RAW'}, {'values': df_values})"
   ]
  }
 ],
 "metadata": {
  "kernelspec": {
   "display_name": "venv",
   "language": "python",
   "name": "python3"
  },
  "language_info": {
   "codemirror_mode": {
    "name": "ipython",
    "version": 3
   },
   "file_extension": ".py",
   "mimetype": "text/x-python",
   "name": "python",
   "nbconvert_exporter": "python",
   "pygments_lexer": "ipython3",
   "version": "3.12.3"
  },
  "orig_nbformat": 4
 },
 "nbformat": 4,
 "nbformat_minor": 2
}
